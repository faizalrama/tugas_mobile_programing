{
 "cells": [
  {
   "cell_type": "code",
   "execution_count": 1,
   "id": "699da0fe-1bb4-44d8-8306-14909eea4fd1",
   "metadata": {},
   "outputs": [],
   "source": [
    "import pandas as pd\n",
    "import numpy as np\n",
    "\n",
    "import os\n",
    "from pathlib import Path\n",
    "\n",
    "import cv2"
   ]
  },
  {
   "cell_type": "markdown",
   "id": "08ce9e61-ac33-425d-b4b2-49d2467af91f",
   "metadata": {},
   "source": [
    "# BLUR"
   ]
  },
  {
   "cell_type": "code",
   "execution_count": 7,
   "id": "293d49ca-fd86-4ccb-ab74-beb2cda07dbe",
   "metadata": {},
   "outputs": [],
   "source": [
    "# Muat citra\n",
    "img = cv2.imread('ijal.jpg')\n",
    "\n",
    "# Buat blur dengan ukuran kernel 25x25\n",
    "blur_img = cv2.blur(img, (25, 25))\n",
    "\n",
    "# Atur ukuran hasil gambar\n",
    "ukuran_lebar = 800\n",
    "ukuran_tinggi = 900\n",
    "blur_img = cv2.resize(blur_img, (ukuran_lebar, ukuran_tinggi))\n",
    "\n",
    "# Tampilkan hasil\n",
    "cv2.imwrite(\"Citra Blur.jpg\", blur_img)\n",
    "cv2.imshow('Citra Blur', blur_img)\n",
    "cv2.waitKey(0)\n",
    "cv2.destroyAllWindows()"
   ]
  },
  {
   "cell_type": "markdown",
   "id": "712fb817-d473-4917-8eef-b2ee64570975",
   "metadata": {},
   "source": [
    "# GAUSSIAN BLUR"
   ]
  },
  {
   "cell_type": "code",
   "execution_count": 8,
   "id": "149c4c7c-ec4b-40f8-9314-c09a2436c987",
   "metadata": {},
   "outputs": [],
   "source": [
    "# Muat citra\n",
    "img = cv2.imread('ijal.jpg')\n",
    "\n",
    "# Buat Gaussian Blur dengan ukuran kernel 25x25 dan sigma 0\n",
    "gaussian_blur_img = cv2.GaussianBlur(img, (25, 25), 0)\n",
    "\n",
    "# Atur ukuran hasil gambar\n",
    "ukuran_lebar = 800\n",
    "ukuran_tinggi = 900\n",
    "gaussian_blur_img = cv2.resize(gaussian_blur_img, (ukuran_lebar, ukuran_tinggi))\n",
    "\n",
    "# Tampilkan hasil\n",
    "cv2.imwrite(\"Citra Gaussian Blur.jpg\", gaussian_blur_img)\n",
    "cv2.imshow('Citra Gaussian Blur', gaussian_blur_img)\n",
    "cv2.waitKey(0)\n",
    "cv2.destroyAllWindows()"
   ]
  },
  {
   "cell_type": "markdown",
   "id": "db798e18-45fc-4bf4-968a-4e13fb5ff921",
   "metadata": {},
   "source": [
    "# SHARPENING"
   ]
  },
  {
   "cell_type": "code",
   "execution_count": 9,
   "id": "fa62b3e9-2a26-49ee-b654-982a34bdcb80",
   "metadata": {},
   "outputs": [],
   "source": [
    "# Muat citra\n",
    "img = cv2.imread('ijal.jpg')\n",
    "\n",
    "# Buat kernel sharpening\n",
    "kernel = np.array([[-1, -1, -1],\n",
    "                   [-1, 9, -1],\n",
    "                   [-1, -1, -1]])\n",
    "\n",
    "# Buat sharpening\n",
    "sharpening_img = cv2.filter2D(img, -1, kernel)\n",
    "\n",
    "# Atur ukuran hasil gambar\n",
    "ukuran_lebar = 800\n",
    "ukuran_tinggi = 900\n",
    "sharpening_img = cv2.resize(sharpening_img, (ukuran_lebar, ukuran_tinggi))\n",
    "\n",
    "# Tampilkan hasil\n",
    "cv2.imwrite(\"Citra Sharpening.jpg\", sharpening_img)\n",
    "cv2.imshow('Citra Sharpening', sharpening_img)\n",
    "cv2.waitKey(0)\n",
    "cv2.destroyAllWindows()"
   ]
  },
  {
   "cell_type": "markdown",
   "id": "3e18fbb3-fbd2-4c5f-93ac-7a111db54494",
   "metadata": {},
   "source": [
    "# EDGE DETECTED IMAGE"
   ]
  },
  {
   "cell_type": "code",
   "execution_count": 10,
   "id": "e9b3ab17-0b31-4e7b-b003-9df369336960",
   "metadata": {},
   "outputs": [],
   "source": [
    "# Muat citra\n",
    "img = cv2.imread('ijal.jpg')\n",
    "\n",
    "# Buat edge detection menggunakan Canny\n",
    "edges = cv2.Canny(img, 100, 200)\n",
    "\n",
    "# Atur ukuran hasil gambar\n",
    "ukuran_lebar = 800\n",
    "ukuran_tinggi = 900\n",
    "edges = cv2.resize(edges, (ukuran_lebar, ukuran_tinggi))\n",
    "\n",
    "# Tampilkan hasil\n",
    "cv2.imwrite(\"Citra Edge Detection.jpg\", edges)\n",
    "cv2.imshow('Citra Edge Detection', edges)\n",
    "cv2.waitKey(0)\n",
    "cv2.destroyAllWindows()"
   ]
  },
  {
   "cell_type": "markdown",
   "id": "597ac5fe-3b66-44c7-8ba0-5375e4002717",
   "metadata": {},
   "source": [
    "# EDGE DETECTED VIDEO"
   ]
  },
  {
   "cell_type": "code",
   "execution_count": 11,
   "id": "7765acfb-ebf2-4508-b54e-a90054682b72",
   "metadata": {},
   "outputs": [],
   "source": [
    "# Muat video\n",
    "cap = cv2.VideoCapture('ijal.mp4')\n",
    "\n",
    "# Buat VideoWriter\n",
    "fourcc = cv2.VideoWriter_fourcc(*'XVID')\n",
    "fps = 30.0\n",
    "ukuran_lebar = int(cap.get(3))\n",
    "ukuran_tinggi = int(cap.get(4))\n",
    "out = cv2.VideoWriter('output.avi', fourcc, fps, (ukuran_lebar, ukuran_tinggi))\n",
    "\n",
    "while True:\n",
    "    # Baca frame\n",
    "    ret, frame = cap.read()\n",
    "\n",
    "    if not ret:\n",
    "        break\n",
    "\n",
    "    # Konversi frame ke grayscale\n",
    "    gray = cv2.cvtColor(frame, cv2.COLOR_BGR2GRAY)\n",
    "\n",
    "    # Aplikasikan Gaussian Blur\n",
    "    blur = cv2.GaussianBlur(gray, (5, 5), 0)\n",
    "\n",
    "    # Aplikasikan Canny Edge Detection\n",
    "    edges = cv2.Canny(blur, 50, 150)\n",
    "\n",
    "    # Tulis frame ke VideoWriter\n",
    "    out.write(cv2.cvtColor(edges, cv2.COLOR_GRAY2BGR))\n",
    "\n",
    "    # Tampilkan hasil\n",
    "    cv2.imshow('Edge Detection', edges)\n",
    "\n",
    "    # Keluar jika tombol 'q' ditekan\n",
    "    if cv2.waitKey(1) & 0xFF == ord('q'):\n",
    "        break\n",
    "\n",
    "# Tutup jendela\n",
    "cv2.destroyAllWindows()\n",
    "cap.release()\n",
    "out.release()"
   ]
  }
 ],
 "metadata": {
  "kernelspec": {
   "display_name": "Python 3 (ipykernel)",
   "language": "python",
   "name": "python3"
  },
  "language_info": {
   "codemirror_mode": {
    "name": "ipython",
    "version": 3
   },
   "file_extension": ".py",
   "mimetype": "text/x-python",
   "name": "python",
   "nbconvert_exporter": "python",
   "pygments_lexer": "ipython3",
   "version": "3.10.11"
  }
 },
 "nbformat": 4,
 "nbformat_minor": 5
}
