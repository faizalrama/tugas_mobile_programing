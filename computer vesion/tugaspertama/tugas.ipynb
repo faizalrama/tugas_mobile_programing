{
 "cells": [
  {
   "cell_type": "code",
   "execution_count": 10,
   "id": "efb8351f-71e4-4aa2-985a-794d2bfdb5d1",
   "metadata": {},
   "outputs": [],
   "source": [
    "import cv2 as cv\n",
    "import numpy as np\n",
    "\n",
    "# Membaca gambar\n",
    "image = cv.imread(\"foto.jpg\")\n",
    "\n",
    "# Mengonversi gambar ke ruang warna HSV\n",
    "hsv = cv.cvtColor(image, cv.COLOR_BGR2HSV)\n",
    "\n",
    "# Mendefinisikan rentang warna hijau dalam HSV\n",
    "# Nilai ini bisa disesuaikan jika diperlukan untuk mencocokkan background hijau\n",
    "lower_green = np.array([35, 40, 40])\n",
    "upper_green = np.array([85, 255, 255])\n",
    "\n",
    "# Membuat mask untuk background hijau\n",
    "mask = cv.inRange(hsv, lower_green, upper_green)\n",
    "\n",
    "# Membuat background biru dengan ukuran yang sama dengan gambar asli\n",
    "blue_background = np.full_like(image, (255, 0, 0))  # Warna biru dalam format BGR\n",
    "\n",
    "# Menggabungkan gambar asli dengan background biru menggunakan mask\n",
    "result = cv.bitwise_and(blue_background, blue_background, mask=mask)\n",
    "result = cv.bitwise_or(result, cv.bitwise_and(image, image, mask=cv.bitwise_not(mask)))\n",
    "\n",
    "# Menyimpan atau menampilkan hasil\n",
    "cv.imwrite(\"/mnt/data/gambar_dengan_background_biru.jpg\", result)\n",
    "cv.imshow(\"Gambar dengan Background Biru\", result)\n",
    "cv.waitKey(0)\n",
    "cv.destroyAllWindows()\n",
    "\n"
   ]
  },
  {
   "cell_type": "code",
   "execution_count": null,
   "id": "47212624-466e-4c93-8640-5092224f8313",
   "metadata": {},
   "outputs": [],
   "source": []
  },
  {
   "cell_type": "code",
   "execution_count": null,
   "id": "7363fd07-1305-44fa-9ffb-09329cf2b064",
   "metadata": {},
   "outputs": [],
   "source": []
  },
  {
   "cell_type": "code",
   "execution_count": null,
   "id": "c467489b-b772-4f6d-a536-03a67fe16155",
   "metadata": {},
   "outputs": [],
   "source": []
  },
  {
   "cell_type": "code",
   "execution_count": null,
   "id": "e2552cfd-16f5-4ea0-8454-68cc5899fb13",
   "metadata": {},
   "outputs": [],
   "source": []
  }
 ],
 "metadata": {
  "kernelspec": {
   "display_name": "Python 3 (ipykernel)",
   "language": "python",
   "name": "python3"
  },
  "language_info": {
   "codemirror_mode": {
    "name": "ipython",
    "version": 3
   },
   "file_extension": ".py",
   "mimetype": "text/x-python",
   "name": "python",
   "nbconvert_exporter": "python",
   "pygments_lexer": "ipython3",
   "version": "3.10.11"
  }
 },
 "nbformat": 4,
 "nbformat_minor": 5
}
