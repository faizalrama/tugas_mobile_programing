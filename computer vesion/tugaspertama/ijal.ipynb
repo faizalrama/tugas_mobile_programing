{
 "cells": [
  {
   "cell_type": "code",
   "execution_count": 2,
   "id": "b04de852-6b22-40bd-8304-f8c8af260e40",
   "metadata": {},
   "outputs": [],
   "source": [
    "import numpy as np\n",
    "import cv2\n",
    "\n",
    "# Ukuran bendera\n",
    "height = 300\n",
    "width = 450\n",
    "\n",
    "# Warna\n",
    "red = (200, 0, 0)  # Merah\n",
    "yellow = (255, 255, 255)  # Kuning\n",
    "green = (0, 0, 255)  # Hijau\n",
    "\n",
    "# Membuat latar belakang putih (sebagai dasar)\n",
    "flag = np.zeros((height, width, 3), dtype=np.uint8)\n",
    "\n",
    "# Lebar setiap garis vertikal\n",
    "stripe_width = width // 3\n",
    "\n",
    "# Menggambar garis vertikal merah di sisi kiri\n",
    "flag[:, :stripe_width] = red\n",
    "\n",
    "# Menggambar garis vertikal kuning di tengah\n",
    "flag[:, stripe_width:2 * stripe_width] = yellow\n",
    "\n",
    "# Menggambar garis vertikal hijau di sisi kanan\n",
    "flag[:, 2 * stripe_width:] = green\n",
    "\n",
    "# Menampilkan bendera\n",
    "cv2.imshow(\"Bendera Guinea\", flag)\n",
    "cv2.waitKey(0)\n",
    "cv2.destroyAllWindows()\n"
   ]
  },
  {
   "cell_type": "code",
   "execution_count": null,
   "id": "84c788d8-dd4f-4eb8-80e1-7c222112a04d",
   "metadata": {},
   "outputs": [],
   "source": []
  }
 ],
 "metadata": {
  "kernelspec": {
   "display_name": "Python 3 (ipykernel)",
   "language": "python",
   "name": "python3"
  },
  "language_info": {
   "codemirror_mode": {
    "name": "ipython",
    "version": 3
   },
   "file_extension": ".py",
   "mimetype": "text/x-python",
   "name": "python",
   "nbconvert_exporter": "python",
   "pygments_lexer": "ipython3",
   "version": "3.10.11"
  }
 },
 "nbformat": 4,
 "nbformat_minor": 5
}
